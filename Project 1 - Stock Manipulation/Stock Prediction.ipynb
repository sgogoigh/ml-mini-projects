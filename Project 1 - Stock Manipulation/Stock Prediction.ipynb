{
 "cells": [
  {
   "cell_type": "markdown",
   "id": "8b4eb62b-17ff-4f62-8638-0b7f908a4f18",
   "metadata": {},
   "source": [
    "# Playing with Data"
   ]
  },
  {
   "cell_type": "code",
   "execution_count": 42,
   "id": "c99ff9d4-7ec2-411b-8ef3-d971c7eded7e",
   "metadata": {},
   "outputs": [],
   "source": [
    "import numpy as np\n",
    "import pandas as pd\n",
    "import seaborn as sns\n",
    "import matplotlib.pyplot as plt"
   ]
  },
  {
   "cell_type": "code",
   "execution_count": 43,
   "id": "be05db71-cbce-4935-be46-9c595338b997",
   "metadata": {},
   "outputs": [
    {
     "name": "stdout",
     "output_type": "stream",
     "text": [
      "Requirement already satisfied: Quandl in c:\\python312\\lib\\site-packages (3.7.0)\n",
      "Requirement already satisfied: pandas>=0.14 in c:\\python312\\lib\\site-packages (from Quandl) (2.2.2)\n",
      "Requirement already satisfied: numpy>=1.8 in c:\\python312\\lib\\site-packages (from Quandl) (2.0.0)\n",
      "Requirement already satisfied: requests>=2.7.0 in c:\\users\\sgogo\\appdata\\roaming\\python\\python312\\site-packages (from Quandl) (2.32.3)\n",
      "Requirement already satisfied: inflection>=0.3.1 in c:\\python312\\lib\\site-packages (from Quandl) (0.5.1)\n",
      "Requirement already satisfied: python-dateutil in c:\\python312\\lib\\site-packages (from Quandl) (2.9.0.post0)\n",
      "Requirement already satisfied: six in c:\\python312\\lib\\site-packages (from Quandl) (1.16.0)\n",
      "Requirement already satisfied: more-itertools in c:\\python312\\lib\\site-packages (from Quandl) (10.3.0)\n",
      "Requirement already satisfied: pytz>=2020.1 in c:\\python312\\lib\\site-packages (from pandas>=0.14->Quandl) (2024.1)\n",
      "Requirement already satisfied: tzdata>=2022.7 in c:\\python312\\lib\\site-packages (from pandas>=0.14->Quandl) (2024.1)\n",
      "Requirement already satisfied: charset-normalizer<4,>=2 in c:\\users\\sgogo\\appdata\\roaming\\python\\python312\\site-packages (from requests>=2.7.0->Quandl) (3.3.2)\n",
      "Requirement already satisfied: idna<4,>=2.5 in c:\\python312\\lib\\site-packages (from requests>=2.7.0->Quandl) (3.7)\n",
      "Requirement already satisfied: urllib3<3,>=1.21.1 in c:\\users\\sgogo\\appdata\\roaming\\python\\python312\\site-packages (from requests>=2.7.0->Quandl) (2.2.2)\n",
      "Requirement already satisfied: certifi>=2017.4.17 in c:\\python312\\lib\\site-packages (from requests>=2.7.0->Quandl) (2024.6.2)\n"
     ]
    }
   ],
   "source": [
    "#For Quandl installation \n",
    "!pip install Quandl"
   ]
  },
  {
   "cell_type": "code",
   "execution_count": 44,
   "id": "4a9e3b4e-4aa9-44df-a7fd-184b6445d93a",
   "metadata": {},
   "outputs": [],
   "source": [
    "# important quandl to access dataset\n",
    "import quandl"
   ]
  },
  {
   "cell_type": "code",
   "execution_count": null,
   "id": "12ae4052-3fe5-4a1d-8a9e-227f37ed69f3",
   "metadata": {},
   "outputs": [],
   "source": [
    "# loading data from quandl\n",
    "data = quandl.get(\"NSE/TATAGLOBAL\")"
   ]
  },
  {
   "cell_type": "code",
   "execution_count": null,
   "id": "03ff2ac1-b92b-4ba4-ba11-b1e3b756b6fc",
   "metadata": {},
   "outputs": [],
   "source": [
    "# checking how it looks\n",
    "data.head()"
   ]
  },
  {
   "cell_type": "code",
   "execution_count": null,
   "id": "9806abb2-c058-4679-836f-0eebbebc3d12",
   "metadata": {},
   "outputs": [],
   "source": [
    "# checking the size of data\n",
    "data.shape"
   ]
  },
  {
   "cell_type": "code",
   "execution_count": null,
   "id": "dde399a8-1671-4ea8-997b-845a2b7d63d9",
   "metadata": {},
   "outputs": [],
   "source": [
    "# basic metrics to quantify\n",
    "data.describe()"
   ]
  },
  {
   "cell_type": "markdown",
   "id": "0b47105b-1008-4615-8562-f4164324ba54",
   "metadata": {},
   "source": [
    "Here, we are trying to predict the 'Close' value - Regression problem\n",
    "After that, we are looking at working with buy and sell option - Classification problem (figuring the next step to be taken)"
   ]
  },
  {
   "cell_type": "code",
   "execution_count": null,
   "id": "b8514b50-0fd4-466c-a3e7-a4ef0380c74e",
   "metadata": {},
   "outputs": [],
   "source": [
    "# visualizing how the data is turning out to be\n",
    "plt.figure(figsize=(16,8))\n",
    "plt.plot(data['Close'], label = \"Closing price\")"
   ]
  },
  {
   "cell_type": "code",
   "execution_count": null,
   "id": "ec8ade54-1ef8-4c29-86d1-15011db00e19",
   "metadata": {},
   "outputs": [],
   "source": [
    "# creating new columns\n",
    "data[\"Open - Close\"] = data['Open'] - data['Close']\n",
    "data[\"High - Low\"] = data['High'] - data['Low']\n",
    "\n",
    "# dropping null values\n",
    "data.dropna()"
   ]
  },
  {
   "cell_type": "code",
   "execution_count": null,
   "id": "4c3f90df-9cdb-47e0-a860-fcf395f77c40",
   "metadata": {},
   "outputs": [],
   "source": [
    "# Checking for possible categories, none that are obvious\n",
    "data.nunique()"
   ]
  },
  {
   "cell_type": "markdown",
   "id": "6a2dfb54-15a6-448b-8fa0-34941c234fe4",
   "metadata": {},
   "source": [
    "## CLASSIFICATION PROBLEM HERE\n",
    "Buy (+1) / Sell (-1)"
   ]
  },
  {
   "cell_type": "code",
   "execution_count": null,
   "id": "4fb4f85e-44de-4f98-8912-3e14c24b7851",
   "metadata": {},
   "outputs": [],
   "source": [
    "X = data[['Open - Close','High - Low']]"
   ]
  },
  {
   "cell_type": "code",
   "execution_count": null,
   "id": "e0069601-3b0d-494b-889d-d024e9aeec44",
   "metadata": {},
   "outputs": [],
   "source": [
    "# shift() deals with moving rows up and down\n",
    "# Here, if the stock at present day closes at a greater value than the previous day, it's more expensive\n",
    "# Therefore, that label is now 1 and otherwise -1\n",
    "Y = np.where(data['Close'].shift(-1) > data['Close'], 1, -1)"
   ]
  },
  {
   "cell_type": "code",
   "execution_count": null,
   "id": "cf8191aa-24d3-4d79-b7ff-d9318806bf7b",
   "metadata": {},
   "outputs": [],
   "source": [
    "from sklearn.model_selection import train_test_split\n",
    "X_train, X_test, Y_train, Y_test = train_test_split(X,Y,test_size = 0.25, random_state = 143)"
   ]
  },
  {
   "cell_type": "markdown",
   "id": "4ef74723-69f0-4a39-a2d8-f67785079ae6",
   "metadata": {},
   "source": [
    "### Implementing the KNN Classifier"
   ]
  },
  {
   "cell_type": "code",
   "execution_count": null,
   "id": "2bdb5e87-2ada-41ed-8a77-06fb8e45f501",
   "metadata": {},
   "outputs": [],
   "source": [
    "from sklearn.neighbors import KNeighborsClassifier\n",
    "from sklearn import neighbors\n",
    "from sklearn.model_selection import GridSearchCV\n",
    "from sklearn.metrics import accuracy_score"
   ]
  },
  {
   "cell_type": "code",
   "execution_count": null,
   "id": "9f328b0e-7b44-4e25-b743-d0c8771691bb",
   "metadata": {},
   "outputs": [],
   "source": [
    "# finding best parameters using GridSearch\n",
    "parameters = {'n_neighbors':[2,3,4,5,6,7,8,9,10,11,12,13,14,15]}\n",
    "knn = neighbors.KNeighborsClassifier()\n",
    "model = GridSearchCV(knn,parameters,cv=5)"
   ]
  },
  {
   "cell_type": "code",
   "execution_count": null,
   "id": "27f5fc80-f346-4641-9a65-d36c0549041d",
   "metadata": {},
   "outputs": [],
   "source": [
    "# fitting the model\n",
    "model.fit(X_train,Y_train)"
   ]
  },
  {
   "cell_type": "code",
   "execution_count": null,
   "id": "8d9a2d2b-02b3-4aaa-ad07-ce3495307aef",
   "metadata": {},
   "outputs": [],
   "source": [
    "# getting to predictions\n",
    "pred1 = model.predict(X_train)\n",
    "accuracy_score(pred1,Y_train)"
   ]
  },
  {
   "cell_type": "code",
   "execution_count": null,
   "id": "e175b869-5fe9-42f3-bd1c-c8e3595d9ae7",
   "metadata": {},
   "outputs": [],
   "source": [
    "pred2 = model.predict(X_test)\n",
    "accuracy_score(pred2,Y_test)"
   ]
  },
  {
   "cell_type": "code",
   "execution_count": null,
   "id": "6719aef5-22be-434d-a50d-48b5e2683be3",
   "metadata": {},
   "outputs": [],
   "source": [
    "Low Accuracies :("
   ]
  },
  {
   "cell_type": "markdown",
   "id": "8054c858-2b2e-4b3d-88aa-74c697bd8625",
   "metadata": {},
   "source": [
    "## Implementing KNeighbors Regressor Model"
   ]
  },
  {
   "cell_type": "code",
   "execution_count": null,
   "id": "d04b97eb-1612-484b-ad65-685435aa19f3",
   "metadata": {},
   "outputs": [],
   "source": [
    "# back to importing packages\n",
    "from sklearn.neighbors import KNeighborsRegressor\n",
    "from sklearn import neighbors"
   ]
  },
  {
   "cell_type": "code",
   "execution_count": null,
   "id": "405be27e-4be0-4381-8984-caaa0636b379",
   "metadata": {},
   "outputs": [],
   "source": [
    "X_train_reg, X_test_reg, Y_train_reg, Y_test_reg = train_test_split(X,Y,test_size = 0.25,random_state = 56)"
   ]
  },
  {
   "cell_type": "code",
   "execution_count": null,
   "id": "53800dce-418d-42a8-898e-1b64197ef989",
   "metadata": {},
   "outputs": [],
   "source": [
    "# finding best parameters using GridSearch\n",
    "parameters = {'n_neighbors':[2,3,4,5,6,7,8,9,10,11,12,13,14,15]}\n",
    "knn_reg = neighbors.KNeighborsRegressor()\n",
    "model_reg = GridSearchCV(knn_reg,parameters,cv=5)"
   ]
  },
  {
   "cell_type": "code",
   "execution_count": null,
   "id": "e519d18c-affd-4533-83af-2fb24fa997dc",
   "metadata": {},
   "outputs": [],
   "source": [
    "model_reg.fit(X_train_reg,Y_train_reg)\n",
    "pred_reg = model_reg.predict(X_test_reg)"
   ]
  },
  {
   "cell_type": "code",
   "execution_count": null,
   "id": "1fbb986c-a797-4780-a3be-14520bf73562",
   "metadata": {},
   "outputs": [],
   "source": [
    "# Checking out the root-mean-square-error\n",
    "rms = np.sqrt(np.mean(np.power((np.array(Y_test)-np.array(pred_reg)),2)))\n",
    "rms"
   ]
  }
 ],
 "metadata": {
  "kernelspec": {
   "display_name": "Python 3 (ipykernel)",
   "language": "python",
   "name": "python3"
  },
  "language_info": {
   "codemirror_mode": {
    "name": "ipython",
    "version": 3
   },
   "file_extension": ".py",
   "mimetype": "text/x-python",
   "name": "python",
   "nbconvert_exporter": "python",
   "pygments_lexer": "ipython3",
   "version": "3.12.3"
  }
 },
 "nbformat": 4,
 "nbformat_minor": 5
}
